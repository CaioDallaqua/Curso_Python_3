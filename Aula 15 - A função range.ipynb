{
 "cells": [
  {
   "cell_type": "markdown",
   "metadata": {},
   "source": [
    "# Curso Python 3 | Aula 15 - A função range - Caio na Aula"
   ]
  },
  {
   "cell_type": "markdown",
   "metadata": {
    "collapsed": true
   },
   "source": [
    "Antes de tudo, [inscreva-se](https://www.youtube.com/channel/UCLEQMN2aaUD9VfBVPxG0IOg)!\n",
    "\n",
    "Sumário:\n",
    "- 0 - [Introdução](#0---Introdução)\n",
    "- 1 - [Range com fim](#1---Range-com-fim)\n",
    "- 2 - [Range com início e fim](#2---Range-com-início-e-fim)\n",
    "- 3 - [Range com início, fim e passo](#3---Range-com-início,-fim-e-passo)"
   ]
  },
  {
   "cell_type": "markdown",
   "metadata": {},
   "source": [
    "## 0 - Introdução"
   ]
  },
  {
   "cell_type": "markdown",
   "metadata": {},
   "source": [
    "A função range serve para entregar sequências de números inteiros e ela é muito usada na repetição com <b>for</b>.\n",
    "\n",
    "Sua chamada pode ser feita de três formas:\n",
    "- <b>range</b>(<font color=\"blue\">fim</font>)\n",
    "- <b><font color=\"green\">range</font></b>(<font color=\"purple\">início</font>, <font color=\"blue\">fim</font>)\n",
    "- <b><font color=\"green\">range</font></b>(<font color=\"purple\">início</font>, <font color=\"blue\">fim</font>, <font color=\"red\">passo</font>)\n",
    "\n",
    "Antes de começar a usar o <b><font color=\"green\">range</font></b>, é importante saber que os valores da sequência são produzidos sob demanda."
   ]
  },
  {
   "cell_type": "markdown",
   "metadata": {},
   "source": [
    "## 1 - <font color=\"green\">Range</font> com <font color=\"blue\">fim</font>"
   ]
  },
  {
   "cell_type": "markdown",
   "metadata": {},
   "source": [
    "Ao usar a forma <b><font color=\"green\">range</font></b>(<font color=\"blue\">fim</font>), precisamos passar apenas um argumento para a função e este argumento deve ser um inteiro.\n",
    "\n",
    "Se chamarmos <b><font color=\"green\">range</font></b> para <font color=\"blue\">fim</font> = 10, estamos pedindo a sequência inteira <b>[0,10)</b>, ou seja, inteiros de 0 a 9."
   ]
  },
  {
   "cell_type": "code",
   "execution_count": 3,
   "metadata": {
    "collapsed": false
   },
   "outputs": [
    {
     "data": {
      "text/plain": [
       "range(0, 10)"
      ]
     },
     "execution_count": 3,
     "metadata": {},
     "output_type": "execute_result"
    }
   ],
   "source": [
    "range(10)"
   ]
  },
  {
   "cell_type": "markdown",
   "metadata": {},
   "source": [
    "Na célula acima, não foi possível ver a sequência. Isso acontece porque o <b><font color=\"green\">range</font></b> gera os valores sob demanda (se não há demanda, ele não gera nada). \n",
    "\n",
    "Para ver a sequência, vamos converter o <b><font color=\"green\">range</font></b> numa lista:"
   ]
  },
  {
   "cell_type": "code",
   "execution_count": 6,
   "metadata": {
    "collapsed": false
   },
   "outputs": [
    {
     "data": {
      "text/plain": [
       "[0, 1, 2, 3, 4, 5, 6, 7, 8, 9]"
      ]
     },
     "execution_count": 6,
     "metadata": {},
     "output_type": "execute_result"
    }
   ],
   "source": [
    "list(range(10))"
   ]
  },
  {
   "cell_type": "markdown",
   "metadata": {},
   "source": [
    "Como foi dito no início, <b>for</b> e <b><font color=\"green\">range</font></b> jogam muito bem juntos. A cada iteração do <b>for</b>, o <b><font color=\"green\">range</font></b> dá um valor."
   ]
  },
  {
   "cell_type": "code",
   "execution_count": 41,
   "metadata": {
    "collapsed": false
   },
   "outputs": [
    {
     "name": "stdout",
     "output_type": "stream",
     "text": [
      "0\n",
      "1\n",
      "2\n",
      "3\n",
      "4\n",
      "5\n",
      "6\n",
      "7\n",
      "8\n",
      "9\n"
     ]
    }
   ],
   "source": [
    "for i in range(10):\n",
    "    print(i)"
   ]
  },
  {
   "cell_type": "markdown",
   "metadata": {},
   "source": [
    "## 2 - <font color=\"green\">Range</font> com <font color=\"purple\">início</font> e <font color=\"blue\">fim</font>"
   ]
  },
  {
   "cell_type": "markdown",
   "metadata": {},
   "source": [
    "Na forma <b><font color=\"green\">range</font></b>(<font color=\"purple\">início</font>, <font color=\"blue\">fim</font>), a novidade é o <font color=\"purple\">início</font>. Agora podemos definir um início, não precisamos começar do zero.\n",
    "\n",
    "Novamente, este parâmetro deve ser um inteiro. Vejamos um exemplo:"
   ]
  },
  {
   "cell_type": "code",
   "execution_count": 22,
   "metadata": {
    "collapsed": false
   },
   "outputs": [
    {
     "data": {
      "text/plain": [
       "[5, 6, 7, 8, 9]"
      ]
     },
     "execution_count": 22,
     "metadata": {},
     "output_type": "execute_result"
    }
   ],
   "source": [
    "list(range(5, 10))"
   ]
  },
  {
   "cell_type": "markdown",
   "metadata": {},
   "source": [
    "Repare que <b><font color=\"green\">range</font></b>(<font color=\"blue\">fim</font>) é o caso particular de <b><font color=\"green\">range</font></b>(<font color=\"purple\">início</font>, <font color=\"blue\">fim</font>), quando <font color=\"purple\">início</font> = 0."
   ]
  },
  {
   "cell_type": "code",
   "execution_count": 43,
   "metadata": {
    "collapsed": false
   },
   "outputs": [
    {
     "data": {
      "text/plain": [
       "True"
      ]
     },
     "execution_count": 43,
     "metadata": {},
     "output_type": "execute_result"
    }
   ],
   "source": [
    "range(10) == range(0, 10)"
   ]
  },
  {
   "cell_type": "markdown",
   "metadata": {},
   "source": [
    "Aqui faz sentido passar parâmetros negativos:"
   ]
  },
  {
   "cell_type": "code",
   "execution_count": 24,
   "metadata": {
    "collapsed": false
   },
   "outputs": [
    {
     "data": {
      "text/plain": [
       "[-3, -2, -1, 0, 1, 2, 3]"
      ]
     },
     "execution_count": 24,
     "metadata": {},
     "output_type": "execute_result"
    }
   ],
   "source": [
    "list(range(-3, 4))"
   ]
  },
  {
   "cell_type": "code",
   "execution_count": 25,
   "metadata": {
    "collapsed": false
   },
   "outputs": [
    {
     "data": {
      "text/plain": [
       "[-5, -4, -3, -2]"
      ]
     },
     "execution_count": 25,
     "metadata": {},
     "output_type": "execute_result"
    }
   ],
   "source": [
    "list(range(-5, -1))"
   ]
  },
  {
   "cell_type": "markdown",
   "metadata": {},
   "source": [
    "## 3 - <font color=\"green\">Range</font> com <font color=\"purple\">início</font>, <font color=\"blue\">fim</font> e <font color=\"red\">passo</font>"
   ]
  },
  {
   "cell_type": "markdown",
   "metadata": {},
   "source": [
    "Esta é a forma que dá maior liberdade para as sequências inteiras que podemos fazer com <b><font color=\"green\">range</font></b>.\n",
    "\n",
    "O parâmetro novo é o <font color=\"red\">passo</font>. Nas formas anteriores, sempre a sequência ia de 1 em 1. Aqui, o <font color=\"red\">passo</font> pode ser qualquer int."
   ]
  },
  {
   "cell_type": "code",
   "execution_count": 29,
   "metadata": {
    "collapsed": false
   },
   "outputs": [
    {
     "data": {
      "text/plain": [
       "[2, 4, 6, 8, 10]"
      ]
     },
     "execution_count": 29,
     "metadata": {},
     "output_type": "execute_result"
    }
   ],
   "source": [
    "list(range(2, 11, 2))"
   ]
  },
  {
   "cell_type": "code",
   "execution_count": 30,
   "metadata": {
    "collapsed": false
   },
   "outputs": [
    {
     "data": {
      "text/plain": [
       "[2, 5, 8]"
      ]
     },
     "execution_count": 30,
     "metadata": {},
     "output_type": "execute_result"
    }
   ],
   "source": [
    "list(range(2, 11, 3))"
   ]
  },
  {
   "cell_type": "markdown",
   "metadata": {},
   "source": [
    "Eu disse que o <font color=\"red\">passo</font> pode ser qualquer int, inclusive negativo!"
   ]
  },
  {
   "cell_type": "code",
   "execution_count": 34,
   "metadata": {
    "collapsed": false
   },
   "outputs": [
    {
     "data": {
      "text/plain": [
       "[5, 4, 3, 2, 1]"
      ]
     },
     "execution_count": 34,
     "metadata": {},
     "output_type": "execute_result"
    }
   ],
   "source": [
    "list(range(5, 0, -1))"
   ]
  },
  {
   "cell_type": "code",
   "execution_count": 36,
   "metadata": {
    "collapsed": false
   },
   "outputs": [
    {
     "data": {
      "text/plain": [
       "[10, 8, 6, 4]"
      ]
     },
     "execution_count": 36,
     "metadata": {},
     "output_type": "execute_result"
    }
   ],
   "source": [
    "list(range(10, 2, -2))"
   ]
  },
  {
   "cell_type": "markdown",
   "metadata": {},
   "source": [
    "Repare que <b><font color=\"green\">range</font></b>(<font color=\"purple\">início</font>, <font color=\"blue\">fim</font>) são casos particulares de <b><font color=\"green\">range</font></b>(<font color=\"purple\">início</font>, <font color=\"blue\">fim</font>, <font color=\"red\">passo</font>), quando <font color=\"red\">passo</font> = 1 "
   ]
  },
  {
   "cell_type": "code",
   "execution_count": 48,
   "metadata": {
    "collapsed": false
   },
   "outputs": [
    {
     "data": {
      "text/plain": [
       "True"
      ]
     },
     "execution_count": 48,
     "metadata": {},
     "output_type": "execute_result"
    }
   ],
   "source": [
    "range(2, 10) == range(2, 10, 1)"
   ]
  },
  {
   "cell_type": "code",
   "execution_count": 49,
   "metadata": {
    "collapsed": false
   },
   "outputs": [
    {
     "data": {
      "text/plain": [
       "True"
      ]
     },
     "execution_count": 49,
     "metadata": {},
     "output_type": "execute_result"
    }
   ],
   "source": [
    "range(-10, 2) == range(-10, 2, 1)"
   ]
  },
  {
   "cell_type": "markdown",
   "metadata": {},
   "source": [
    "Para encerrar, vamos usar a forma <b><font color=\"green\">range</font></b>(<font color=\"purple\">início</font>, <font color=\"blue\">fim</font>, <font color=\"red\">passo</font>) com o <b>for</b>.\n",
    "\n",
    "Para obter apenas números pares de 0 a 10:"
   ]
  },
  {
   "cell_type": "code",
   "execution_count": 51,
   "metadata": {
    "collapsed": false
   },
   "outputs": [
    {
     "name": "stdout",
     "output_type": "stream",
     "text": [
      "0\n",
      "2\n",
      "4\n",
      "6\n",
      "8\n",
      "10\n"
     ]
    }
   ],
   "source": [
    "for i in range(0, 11, 2):\n",
    "    print(i)"
   ]
  },
  {
   "cell_type": "markdown",
   "metadata": {},
   "source": [
    "Para pegarmos os múltiplos positivos de 3 até 21:"
   ]
  },
  {
   "cell_type": "code",
   "execution_count": 54,
   "metadata": {
    "collapsed": false
   },
   "outputs": [
    {
     "name": "stdout",
     "output_type": "stream",
     "text": [
      "3\n",
      "6\n",
      "9\n",
      "12\n",
      "15\n",
      "18\n",
      "21\n"
     ]
    }
   ],
   "source": [
    "for i in range(3, 22, 3):\n",
    "    print(i)"
   ]
  },
  {
   "cell_type": "markdown",
   "metadata": {},
   "source": [
    "Enfim, as possibilidades são enormes..."
   ]
  },
  {
   "cell_type": "markdown",
   "metadata": {},
   "source": [
    " "
   ]
  },
  {
   "cell_type": "markdown",
   "metadata": {},
   "source": [
    " "
   ]
  },
  {
   "cell_type": "markdown",
   "metadata": {},
   "source": [
    " "
   ]
  },
  {
   "cell_type": "markdown",
   "metadata": {},
   "source": [
    "Se esse material te ajudou, retribua compartilhando com seus amigos!\n",
    "\n",
    "Nos vemos na [próxima aula](https://www.youtube.com/playlist?list=PLnHC9X5I2m1_BHFb8rS950nCZXpua3Dj3)!"
   ]
  }
 ],
 "metadata": {
  "kernelspec": {
   "display_name": "Python 3",
   "language": "python",
   "name": "python3"
  },
  "language_info": {
   "codemirror_mode": {
    "name": "ipython",
    "version": 3
   },
   "file_extension": ".py",
   "mimetype": "text/x-python",
   "name": "python",
   "nbconvert_exporter": "python",
   "pygments_lexer": "ipython3",
   "version": "3.5.1"
  }
 },
 "nbformat": 4,
 "nbformat_minor": 0
}
