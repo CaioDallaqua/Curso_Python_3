{
 "cells": [
  {
   "cell_type": "markdown",
   "metadata": {},
   "source": [
    "# Curso Python 3 | Aula 17 - Introdução às funções"
   ]
  },
  {
   "cell_type": "markdown",
   "metadata": {
    "collapsed": true
   },
   "source": [
    "Antes de tudo, [inscreva-se](https://www.youtube.com/channel/UCLEQMN2aaUD9VfBVPxG0IOg)!\n",
    "\n",
    "Sumário:\n",
    "- 0 - [Introdução](#0---Introdução)\n",
    "- 1 - [Criando funções sem parâmetros](#1---Criando-funções-sem-parâmetros)\n",
    "- 2 - [Criando funções com parâmetros](#2---Criando-funções-com-parâmetros)\n",
    "- 3 - [Funções com retornos](#3---Funções-com-retornos)\n",
    "- 4 - [Função para a sequência Fibonacci](#4---Função-para-a-sequência-Fibonacci)"
   ]
  },
  {
   "cell_type": "markdown",
   "metadata": {},
   "source": [
    "## 0 - Introdução"
   ]
  },
  {
   "cell_type": "markdown",
   "metadata": {},
   "source": [
    "Funções são pedaços de código que podem ser executados em qualquer parte de um programa.\n",
    "\n",
    "Usamos funções (principalmente) porque elas:\n",
    "- permitem reutilização de código;\n",
    "- deixam o código mais legível;\n",
    "- facilitam a depuração."
   ]
  },
  {
   "cell_type": "markdown",
   "metadata": {},
   "source": [
    "## 1 - Criando funções sem parâmetros"
   ]
  },
  {
   "cell_type": "markdown",
   "metadata": {},
   "source": [
    "Uma das formas de criar funções é através da seguinte sintaxe: \n",
    "\n",
    "<b>def nome</b>(parâmetro_1<b>,</b> ...<b>,</b> parâmetro_n)<b>:</b>\n",
    "\n",
    "    código\n",
    "\n",
    "Por enquanto estamos interessados em funções sem parâmetros. Nesse caso, os parênteses ficam vazios."
   ]
  },
  {
   "cell_type": "markdown",
   "metadata": {},
   "source": [
    "Agora vamos escrever uma função! Ela vai simplesmente imprimir \"Olá, humano!\", sem receber nenhum parâmetro."
   ]
  },
  {
   "cell_type": "code",
   "execution_count": null,
   "metadata": {
    "collapsed": true
   },
   "outputs": [],
   "source": [
    "def mensagem():\n",
    "    print('Olá, humano!')"
   ]
  },
  {
   "cell_type": "markdown",
   "metadata": {},
   "source": [
    "Para chamarmos a função <b>mensagem</b>, fazemos assim:"
   ]
  },
  {
   "cell_type": "code",
   "execution_count": null,
   "metadata": {
    "collapsed": true
   },
   "outputs": [],
   "source": [
    "mensagem()"
   ]
  },
  {
   "cell_type": "markdown",
   "metadata": {},
   "source": [
    "Acima, ao chamar a função <b>mensagem</b>, ela imprime a saudação que especificamos."
   ]
  },
  {
   "cell_type": "markdown",
   "metadata": {},
   "source": [
    "## 2 - Criando funções com parâmetros"
   ]
  },
  {
   "cell_type": "markdown",
   "metadata": {},
   "source": [
    "No caso de uma função que imprime o nome do usuário, precisamos passar o nome como parâmetro. \n",
    "\n",
    "Vamos criar a função <b>nome_do_usuario</b> e ela vai receber o parâmetro <b>nome</b>."
   ]
  },
  {
   "cell_type": "code",
   "execution_count": null,
   "metadata": {
    "collapsed": true
   },
   "outputs": [],
   "source": [
    "def nome_do_usuario(nome):\n",
    "    print('Nome do usuário:', nome)"
   ]
  },
  {
   "cell_type": "markdown",
   "metadata": {},
   "source": [
    "Agora, vamos chamar a função <b>nome_do_usuario</b> para dois nomes diferentes e ver se ela funciona."
   ]
  },
  {
   "cell_type": "code",
   "execution_count": null,
   "metadata": {
    "collapsed": true
   },
   "outputs": [],
   "source": [
    "nome_do_usuario('Sara')\n",
    "nome_do_usuario('Mateus')"
   ]
  },
  {
   "cell_type": "markdown",
   "metadata": {},
   "source": [
    "Para passar mais de um parâmetro, basta colocar vírgulas entre eles."
   ]
  },
  {
   "cell_type": "markdown",
   "metadata": {},
   "source": [
    "Como Python não define tipos para variáveis, nossos parâmetros podem ser de qualquer tipo. \n",
    "\n",
    "Na função <b>nome_do_usuario</b>, por exemplo, podemos passar um número para o parâmetro <b>nome</b>..."
   ]
  },
  {
   "cell_type": "code",
   "execution_count": null,
   "metadata": {
    "collapsed": true
   },
   "outputs": [],
   "source": [
    "nome_do_usuario(123)"
   ]
  },
  {
   "cell_type": "markdown",
   "metadata": {},
   "source": [
    "Existem técnicas de orientação a objetos para evitar que o programa faça algo sem sentido ou mesmo erros de código.\n",
    "\n",
    "Por enquanto, você pode estar usando if, elif e else para tornar suas funções mais \"consistentes\"."
   ]
  },
  {
   "cell_type": "markdown",
   "metadata": {},
   "source": [
    "## 3 - Funções com retorno"
   ]
  },
  {
   "cell_type": "markdown",
   "metadata": {},
   "source": [
    "A maioria das funções possui entrada (parâmetros) e saída (retorno).\n",
    "\n",
    "O retorno em Python é dado por <b>return</b> seguido do valor a ser retornado. Vejamos um exemplo:"
   ]
  },
  {
   "cell_type": "code",
   "execution_count": null,
   "metadata": {
    "collapsed": true
   },
   "outputs": [],
   "source": [
    "def soma(A, B):\n",
    "    return A+B"
   ]
  },
  {
   "cell_type": "markdown",
   "metadata": {},
   "source": [
    "A função acima, quando for chamada, retornará <b>A</b> + <b>B</b>. \n",
    "\n",
    "O retorno pode ser passado para uma variável:"
   ]
  },
  {
   "cell_type": "code",
   "execution_count": null,
   "metadata": {
    "collapsed": true
   },
   "outputs": [],
   "source": [
    "S = soma(10, 20)\n",
    "print(S)"
   ]
  },
  {
   "cell_type": "markdown",
   "metadata": {},
   "source": [
    "Repare que não foram definidos tipos pra <b>A</b> ou <b>B</b>.\n",
    "\n",
    "<b>A + B</b> pode indicar, por exemplo, concatenação de strings se <b>A</b> e <b>B</b> forem strings."
   ]
  },
  {
   "cell_type": "code",
   "execution_count": null,
   "metadata": {
    "collapsed": true
   },
   "outputs": [],
   "source": [
    "S = soma('Go', 'ku')\n",
    "print(S)"
   ]
  },
  {
   "cell_type": "markdown",
   "metadata": {},
   "source": [
    "É importante saber que a função será interrompida logo após a execução do <b>return</b>. Isso fica evidente na função abaixo:"
   ]
  },
  {
   "cell_type": "code",
   "execution_count": null,
   "metadata": {
    "collapsed": true
   },
   "outputs": [],
   "source": [
    "def teste():\n",
    "    for i in range(10):\n",
    "        if i > 2:\n",
    "            return i\n",
    "    print('Saiu do for')"
   ]
  },
  {
   "cell_type": "markdown",
   "metadata": {},
   "source": [
    "Abaixo, chamamos a função <b>teste</b> e vemos que o print('Saiu do for') não foi executado, pois a função parou no <b>return</b>."
   ]
  },
  {
   "cell_type": "code",
   "execution_count": null,
   "metadata": {
    "collapsed": true
   },
   "outputs": [],
   "source": [
    "teste()"
   ]
  },
  {
   "cell_type": "markdown",
   "metadata": {},
   "source": [
    "## 4 - Função para a sequência Fibonacci"
   ]
  },
  {
   "cell_type": "markdown",
   "metadata": {},
   "source": [
    "A sequência Fibonacci é definida da seguinte forma:\n",
    "\n",
    "$F(n) = \\left\\{\n",
    "        \\begin{array}{ll}\n",
    "            0 & \\quad n = 0 \\\\\n",
    "            1 & \\quad n = 1 \\\\\n",
    "            F(n-1) + F(n-2) & \\quad n \\gt 1\n",
    "        \\end{array}\n",
    "    \\right.$\n",
    "\n",
    "Abaixo temos uma função que recebe um inteiro <b>n</b> e retorna o n-ésimo termo da sequência Fibonacci, supondo <b>n</b> >= 0."
   ]
  },
  {
   "cell_type": "code",
   "execution_count": null,
   "metadata": {
    "collapsed": true
   },
   "outputs": [],
   "source": [
    "def fib(n):\n",
    "    F0, F1 = 0, 1\n",
    "    if n < 2:\n",
    "        return n\n",
    "    for i in range(2, n+1):\n",
    "        Fn = F1 + F0\n",
    "        F0, F1 = F1, Fn\n",
    "    return Fn"
   ]
  },
  {
   "cell_type": "markdown",
   "metadata": {},
   "source": [
    "Vamos agora chamar <b>fib</b> para <b>n</b> de 1 a 9 e imprimir isso. "
   ]
  },
  {
   "cell_type": "code",
   "execution_count": null,
   "metadata": {
    "collapsed": true
   },
   "outputs": [],
   "source": [
    "for i in range(10):\n",
    "    print('F(', i, ') = ', fib(i), sep = '')"
   ]
  },
  {
   "cell_type": "markdown",
   "metadata": {},
   "source": [
    "A função acima não é a mais eficiente possível, mas serve pra mostrar como podemos usar funções."
   ]
  },
  {
   "cell_type": "markdown",
   "metadata": {},
   "source": [
    " "
   ]
  },
  {
   "cell_type": "markdown",
   "metadata": {},
   "source": [
    " "
   ]
  },
  {
   "cell_type": "markdown",
   "metadata": {},
   "source": [
    " "
   ]
  },
  {
   "cell_type": "markdown",
   "metadata": {},
   "source": [
    "Se esse material te ajudou, retribua compartilhando com seus amigos!\n",
    "\n",
    "Nos vemos na [próxima aula](https://www.youtube.com/playlist?list=PLnHC9X5I2m1_BHFb8rS950nCZXpua3Dj3)!"
   ]
  }
 ],
 "metadata": {
  "kernelspec": {
   "display_name": "Python 3",
   "language": "python",
   "name": "python3"
  },
  "language_info": {
   "codemirror_mode": {
    "name": "ipython",
    "version": 3
   },
   "file_extension": ".py",
   "mimetype": "text/x-python",
   "name": "python",
   "nbconvert_exporter": "python",
   "pygments_lexer": "ipython3",
   "version": "3.5.3"
  }
 },
 "nbformat": 4,
 "nbformat_minor": 1
}
