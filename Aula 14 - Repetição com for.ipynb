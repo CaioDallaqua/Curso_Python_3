{
 "cells": [
  {
   "cell_type": "markdown",
   "metadata": {},
   "source": [
    "# Curso Python 3 | Aula 14 - Repetição com for"
   ]
  },
  {
   "cell_type": "markdown",
   "metadata": {
    "collapsed": true
   },
   "source": [
    "Antes de tudo, [inscreva-se](https://www.youtube.com/channel/UCLEQMN2aaUD9VfBVPxG0IOg)!\n",
    "\n",
    "Sumário:\n",
    "- 0 - [Introdução](#0---Introdução)\n",
    "- 1 - [Exemplos iniciais](#1---Exemplos-iniciais)\n",
    "- 2 - [Exemplos com Listas](#2---Exemplos-com-Listas)\n",
    "- 3 - [Break, Continue e Else](#3---Break,-Continue-e-Else)\n",
    "- 4 - [Mais exemplos](#4---Mais-exemplos)"
   ]
  },
  {
   "cell_type": "markdown",
   "metadata": {},
   "source": [
    "## 0 - Introdução"
   ]
  },
  {
   "cell_type": "markdown",
   "metadata": {},
   "source": [
    "Já vimos a repetição com o while e agora veremos com o for.\n",
    "\n",
    "A escolha entre eles é questão de preferência, pois tudo feito com um pode ser feito com o outro.\n",
    "\n",
    "A sintaxe do for é a seguinte:\n",
    "\n",
    "<pre><pre><b>for</b> variável <b>in</b> iterável<b>:</b>\n",
    "<pre>operações</pre></pre></pre>\n",
    "\n",
    "Iterável é qualquer objeto que tem uma ordem para acessar seus elementos.\n",
    "\n",
    "String é um exemplo de iterável, sua iteração ocorre caractere por caractere.\n",
    "\n",
    "Além do iterável, é preciso de uma variável (que serve de iterador).\n",
    "\n",
    "Em cada execução do for, essa variável receberá o valor do elemento atual."
   ]
  },
  {
   "cell_type": "markdown",
   "metadata": {},
   "source": [
    "## 1 - Exemplos iniciais"
   ]
  },
  {
   "cell_type": "markdown",
   "metadata": {},
   "source": [
    "Vamos começar com strings.\n",
    "\n",
    "O código abaixo vai passar por todos os elementos de s, um por vez."
   ]
  },
  {
   "cell_type": "code",
   "execution_count": 21,
   "metadata": {
    "collapsed": false
   },
   "outputs": [
    {
     "name": "stdout",
     "output_type": "stream",
     "text": [
      "O iterador está no elemento a\n",
      "O iterador está no elemento b\n",
      "O iterador está no elemento c\n",
      "O iterador está no elemento d\n"
     ]
    }
   ],
   "source": [
    "s = 'abcd'\n",
    "for i in s:\n",
    "    print('O iterador está no elemento',i)"
   ]
  },
  {
   "cell_type": "markdown",
   "metadata": {},
   "source": [
    "Se você tentar iterar sobre algo que não é iterável, vai dar erro.\n",
    "\n",
    "Tenha sempre em mente a definição de iterável."
   ]
  },
  {
   "cell_type": "code",
   "execution_count": 7,
   "metadata": {
    "collapsed": false
   },
   "outputs": [
    {
     "ename": "TypeError",
     "evalue": "'int' object is not iterable",
     "output_type": "error",
     "traceback": [
      "\u001b[1;31m---------------------------------------------------------------------------\u001b[0m",
      "\u001b[1;31mTypeError\u001b[0m                                 Traceback (most recent call last)",
      "\u001b[1;32m<ipython-input-7-163a947e54f9>\u001b[0m in \u001b[0;36m<module>\u001b[1;34m()\u001b[0m\n\u001b[1;32m----> 1\u001b[1;33m \u001b[1;32mfor\u001b[0m \u001b[0mj\u001b[0m \u001b[1;32min\u001b[0m \u001b[1;36m10\u001b[0m\u001b[1;33m:\u001b[0m\u001b[1;33m\u001b[0m\u001b[0m\n\u001b[0m\u001b[0;32m      2\u001b[0m     \u001b[0mprint\u001b[0m\u001b[1;33m(\u001b[0m\u001b[0mj\u001b[0m\u001b[1;33m)\u001b[0m\u001b[1;33m\u001b[0m\u001b[0m\n",
      "\u001b[1;31mTypeError\u001b[0m: 'int' object is not iterable"
     ]
    }
   ],
   "source": [
    "for j in 10:\n",
    "    print(j)"
   ]
  },
  {
   "cell_type": "markdown",
   "metadata": {},
   "source": [
    "## 2 - Exemplos com Listas"
   ]
  },
  {
   "cell_type": "markdown",
   "metadata": {},
   "source": [
    "Ainda não vimos Listas, mas é uma boa hora pra introduzir.\n",
    "\n",
    "Listas são conjuntos de coisas, assim como uma lista de compras tem um conjunto de coisas pra comprar."
   ]
  },
  {
   "cell_type": "markdown",
   "metadata": {},
   "source": [
    "Exemplo de lista com ints:"
   ]
  },
  {
   "cell_type": "code",
   "execution_count": 10,
   "metadata": {
    "collapsed": false
   },
   "outputs": [
    {
     "data": {
      "text/plain": [
       "[1, 2, 3, 4]"
      ]
     },
     "execution_count": 10,
     "metadata": {},
     "output_type": "execute_result"
    }
   ],
   "source": [
    "L = [1, 2, 3, 4]\n",
    "L"
   ]
  },
  {
   "cell_type": "markdown",
   "metadata": {},
   "source": [
    "Exemplo de lista com ints e floats:"
   ]
  },
  {
   "cell_type": "code",
   "execution_count": 12,
   "metadata": {
    "collapsed": false
   },
   "outputs": [
    {
     "data": {
      "text/plain": [
       "[1.2, 2, 4.3, 0]"
      ]
     },
     "execution_count": 12,
     "metadata": {},
     "output_type": "execute_result"
    }
   ],
   "source": [
    "L = [1.2, 2, 4.3, 0]\n",
    "L"
   ]
  },
  {
   "cell_type": "markdown",
   "metadata": {},
   "source": [
    "Listas podem ter misturas de quaisquer tipos de dados, até strings."
   ]
  },
  {
   "cell_type": "code",
   "execution_count": 14,
   "metadata": {
    "collapsed": false
   },
   "outputs": [
    {
     "data": {
      "text/plain": [
       "[1.2, 4, 'string', -3]"
      ]
     },
     "execution_count": 14,
     "metadata": {},
     "output_type": "execute_result"
    }
   ],
   "source": [
    "L = [1.2, 4, 'string', -3]\n",
    "L"
   ]
  },
  {
   "cell_type": "markdown",
   "metadata": {},
   "source": [
    "Eu disse que era uma boa hora pra introduzir listas, porque elas são iteráveis.\n",
    "\n",
    "Portanto, podemos usar o for com elas."
   ]
  },
  {
   "cell_type": "code",
   "execution_count": 20,
   "metadata": {
    "collapsed": false
   },
   "outputs": [
    {
     "name": "stdout",
     "output_type": "stream",
     "text": [
      "O iterador está no elemento 1\n",
      "O iterador está no elemento 2\n",
      "O iterador está no elemento 3\n",
      "O iterador está no elemento 4\n"
     ]
    }
   ],
   "source": [
    "L = [1, 2, 3, 4]\n",
    "for i in L:\n",
    "    print('O iterador está no elemento',i)"
   ]
  },
  {
   "cell_type": "markdown",
   "metadata": {},
   "source": [
    "E não importa se a lista é uma salada de frutas, quer dizer, de dados."
   ]
  },
  {
   "cell_type": "code",
   "execution_count": 23,
   "metadata": {
    "collapsed": false
   },
   "outputs": [
    {
     "name": "stdout",
     "output_type": "stream",
     "text": [
      "O iterador está no elemento 1.2\n",
      "O iterador está no elemento 4\n",
      "O iterador está no elemento string\n",
      "O iterador está no elemento -3\n"
     ]
    }
   ],
   "source": [
    "L = [1.2, 4, 'string', -3]\n",
    "for i in L:\n",
    "    print('O iterador está no elemento',i)"
   ]
  },
  {
   "cell_type": "markdown",
   "metadata": {},
   "source": [
    "## 3 - Break, Continue e Else "
   ]
  },
  {
   "cell_type": "markdown",
   "metadata": {},
   "source": [
    "Assim como o while, o for também aceita o uso de break, continue e else."
   ]
  },
  {
   "cell_type": "code",
   "execution_count": 27,
   "metadata": {
    "collapsed": false
   },
   "outputs": [
    {
     "name": "stdout",
     "output_type": "stream",
     "text": [
      "O iterador está no elemento 1\n",
      "O iterador está no elemento 2\n"
     ]
    }
   ],
   "source": [
    "L = [1, 2, 3, 4]\n",
    "for i in L:\n",
    "    if i == 3:\n",
    "        break\n",
    "    print('O iterador está no elemento', i)"
   ]
  },
  {
   "cell_type": "code",
   "execution_count": 25,
   "metadata": {
    "collapsed": false
   },
   "outputs": [
    {
     "name": "stdout",
     "output_type": "stream",
     "text": [
      "O iterador está no elemento 1\n",
      "O iterador está no elemento 2\n",
      "O iterador está no elemento 4\n"
     ]
    }
   ],
   "source": [
    "L = [1, 2, 3, 4]\n",
    "for i in L:\n",
    "    if i == 3:\n",
    "        continue\n",
    "    print('O iterador está no elemento', i)"
   ]
  },
  {
   "cell_type": "code",
   "execution_count": 26,
   "metadata": {
    "collapsed": false
   },
   "outputs": [
    {
     "name": "stdout",
     "output_type": "stream",
     "text": [
      "O iterador está no elemento 1\n",
      "O iterador está no elemento 2\n",
      "O iterador está no elemento 3\n",
      "O iterador está no elemento 4\n",
      "Saiu do for\n"
     ]
    }
   ],
   "source": [
    "L = [1, 2, 3, 4]\n",
    "for i in L:\n",
    "    print('O iterador está no elemento', i)\n",
    "else:\n",
    "    print('Saiu do for')"
   ]
  },
  {
   "cell_type": "markdown",
   "metadata": {},
   "source": [
    "## 4 - Mais exemplos"
   ]
  },
  {
   "cell_type": "markdown",
   "metadata": {},
   "source": [
    "Se temos uma string para o alfabeto e queremos imprimir as vogais:"
   ]
  },
  {
   "cell_type": "code",
   "execution_count": 38,
   "metadata": {
    "collapsed": false
   },
   "outputs": [
    {
     "name": "stdout",
     "output_type": "stream",
     "text": [
      "A é uma vogal\n",
      "B é uma consoante\n",
      "C é uma consoante\n",
      "D é uma consoante\n",
      "E é uma vogal\n",
      "F é uma consoante\n",
      "G é uma consoante\n",
      "H é uma consoante\n",
      "I é uma vogal\n",
      "J é uma consoante\n",
      "K é uma consoante\n",
      "L é uma consoante\n",
      "M é uma consoante\n",
      "N é uma consoante\n",
      "O é uma vogal\n",
      "P é uma consoante\n",
      "Q é uma consoante\n",
      "R é uma consoante\n",
      "S é uma consoante\n",
      "T é uma consoante\n",
      "U é uma vogal\n",
      "V é uma consoante\n",
      "W é uma consoante\n",
      "X é uma consoante\n",
      "Y é uma consoante\n",
      "Z é uma consoante\n"
     ]
    }
   ],
   "source": [
    "for letra in 'ABCDEFGHIJKLMNOPQRSTUVWXYZ':\n",
    "    print(letra, end = ' é uma ')\n",
    "    if letra in 'AEIOU':\n",
    "        print('vogal')\n",
    "    else:\n",
    "        print('consoante')"
   ]
  },
  {
   "cell_type": "markdown",
   "metadata": {},
   "source": [
    "No código acima, o for itera sobre a string contendo o alfabeto.\n",
    "\n",
    "Dentro do for, temos um if vendo se a letra atual faz parte da string de vogais."
   ]
  },
  {
   "cell_type": "markdown",
   "metadata": {},
   "source": [
    "Para dividir entre pares e ímpares:"
   ]
  },
  {
   "cell_type": "code",
   "execution_count": 41,
   "metadata": {
    "collapsed": false
   },
   "outputs": [
    {
     "name": "stdout",
     "output_type": "stream",
     "text": [
      "1 é ímpar\n",
      "2 é par\n",
      "3 é ímpar\n",
      "4 é par\n"
     ]
    }
   ],
   "source": [
    "N = [1, 2, 3, 4]\n",
    "for i in N:\n",
    "    print(i, end = ' é ')\n",
    "    if i % 2 == 0:\n",
    "        print('par')\n",
    "    else:\n",
    "        print('ímpar')"
   ]
  },
  {
   "cell_type": "markdown",
   "metadata": {},
   "source": [
    "Podemos deixar o código acima menor.\n",
    "\n",
    "Para isso, não usamos uma variável para a lista.\n",
    "\n",
    "Também não usamos o else."
   ]
  },
  {
   "cell_type": "code",
   "execution_count": 48,
   "metadata": {
    "collapsed": false
   },
   "outputs": [
    {
     "name": "stdout",
     "output_type": "stream",
     "text": [
      "1 é ímpar\n",
      "2 é par\n",
      "3 é ímpar\n",
      "4 é par\n"
     ]
    }
   ],
   "source": [
    "for i in [1, 2, 3, 4]:\n",
    "    print(i, end = ' é ')\n",
    "    if i % 2:\n",
    "        print('ím', end = '')\n",
    "    print('par')"
   ]
  },
  {
   "cell_type": "markdown",
   "metadata": {},
   "source": [
    "Poderia ser i % 2 != 0 no teste do if.\n",
    "\n",
    "No entanto, qualquer int diferente de zero é True. Então encurtamos um pouco mais o código."
   ]
  },
  {
   "cell_type": "markdown",
   "metadata": {},
   "source": [
    " "
   ]
  },
  {
   "cell_type": "markdown",
   "metadata": {},
   "source": [
    " "
   ]
  },
  {
   "cell_type": "markdown",
   "metadata": {},
   "source": [
    " "
   ]
  },
  {
   "cell_type": "markdown",
   "metadata": {},
   "source": [
    "Se esse material te ajudou, retribua compartilhando com seus amigos!\n",
    "\n",
    "Nos vemos na [próxima aula](https://www.youtube.com/playlist?list=PLnHC9X5I2m1_BHFb8rS950nCZXpua3Dj3)!"
   ]
  }
 ],
 "metadata": {
  "kernelspec": {
   "display_name": "Python 3",
   "language": "python",
   "name": "python3"
  },
  "language_info": {
   "codemirror_mode": {
    "name": "ipython",
    "version": 3
   },
   "file_extension": ".py",
   "mimetype": "text/x-python",
   "name": "python",
   "nbconvert_exporter": "python",
   "pygments_lexer": "ipython3",
   "version": "3.5.1"
  }
 },
 "nbformat": 4,
 "nbformat_minor": 0
}
